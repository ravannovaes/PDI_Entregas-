{
 "cells": [
  {
   "cell_type": "markdown",
   "metadata": {},
   "source": [
    "## Equalização de Histograma"
   ]
  },
  {
   "cell_type": "code",
   "execution_count": 9,
   "metadata": {},
   "outputs": [
    {
     "data": {
      "image/png": "[encoded data removed]",
      "text/plain": [
       "<matplotlib.figure.Figure at 0x7fc566d23630>"
      ]
     },
     "metadata": {},
     "output_type": "display_data"
    },
    {
     "data": {
      "image/png": "[encoded data removed]",
      "text/plain": [
       "<matplotlib.figure.Figure at 0x7fc566a57f28>"
      ]
     },
     "metadata": {},
     "output_type": "display_data"
    }
   ],
   "source": [
    "import matplotlib.pyplot as plt\n",
    "teste = open('relogio.pgm',\"r\")\n",
    "d = teste.readlines()\n",
    "carrega_dados=[]\n",
    "quantidade=[]\n",
    "dados_intensidades=[]\n",
    "intensidades_inteiros=[]\n",
    "intensidade_frequencia=[]\n",
    "eixo_x=[]\n",
    "vetor6=[]\n",
    "vetor7=[]\n",
    "vetor8=[]\n",
    "novaimagem=[]\n",
    "\n",
    "#ler os dados incluindo o cabeçalho e retorna uma string\n",
    "for line in d:\n",
    "       for n in line.split():\n",
    "           carrega_dados.append(n)\n",
    "#tamanho total da imagem\n",
    "tamanho= int(carrega_dados[1])*int(carrega_dados[2])\n",
    "\n",
    "#converte os valores de str para inteiros\n",
    "\n",
    "dados_intensidades = carrega_dados[4:]\n",
    "#print(dados_intensidades)\n",
    "for val in dados_intensidades:\n",
    "    intensidades_inteiros.append(int(val))\n",
    "#conta a frequencia de cada nivel e divide pelo total de pixels da imagem (pmf)\n",
    "\n",
    "for i in range(0,255) :\n",
    "   a=(intensidades_inteiros.count(i))\n",
    "   vetor7.append(a)\n",
    "   intensidade_frequencia.append((a/tamanho))\n",
    "   eixo_x.append(i)\n",
    "\n",
    "#print(vetor7)\n",
    "#plota histograma\n",
    "plt.title('Histograma')\n",
    "plt.bar(eixo_x,intensidade_frequencia)\n",
    "plt.show()\n",
    "\n",
    "\n",
    "#calcula a cdf \n",
    "for i in range (0,255):\n",
    "    intensidade_frequencia[i]=intensidade_frequencia[i]+intensidade_frequencia[i-1]\n",
    "\n",
    "#normaliza a cdf e arredonda os novos indices\n",
    "for i in range(0,255) :\n",
    "    intensidade_frequencia[i]=round(intensidade_frequencia[i]*255)\n",
    "\n",
    "#print(intensidade_frequencia)\n",
    "\n",
    "\n",
    "\n",
    "for i in range(0,255) :\n",
    "  vetor8.append(0)\n",
    "\n",
    "#calculo histograma equalizado\n",
    "for i in range(0,255) :\n",
    "    for j in range(0,255) :\n",
    "       if (intensidade_frequencia[i]==j) :\n",
    "\n",
    "          vetor8[j] =  vetor8[j] + vetor7[i]\n",
    "\n",
    "#print(vetor8)\n",
    "\n",
    "#plota cdf normalizada e aproximada\n",
    "plt.title('Histograma Equalizado')\n",
    "plt.bar(eixo_x,vetor8)\n",
    "plt.show()\n"
   ]
  }
 ],
 "metadata": {
  "kernelspec": {
   "display_name": "Python 3",
   "language": "python",
   "name": "python3"
  },
  "language_info": {
   "codemirror_mode": {
    "name": "ipython",
    "version": 3
   },
   "file_extension": ".py",
   "mimetype": "text/x-python",
   "name": "python",
   "nbconvert_exporter": "python",
   "pygments_lexer": "ipython3",
   "version": "3.6.2"
  }
 },
 "nbformat": 4,
 "nbformat_minor": 2
}
